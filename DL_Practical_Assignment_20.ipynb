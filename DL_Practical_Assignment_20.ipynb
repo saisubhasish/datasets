{
 "cells": [
  {
   "cell_type": "markdown",
   "id": "5adc85ac",
   "metadata": {},
   "source": [
    "**Objective: - Blur the Face**\n",
    "\n",
    "Blurring the face area of people from videos is done in all news channels and to hide the identity of a person.\n",
    "With computer vision, You can automatically detect the face region of the person and use it to blur the image.\n",
    "The project will be useful in blurring the faces of the people in the video.\n",
    "\n",
    "**Dataset Link**: - \n",
    "Use anyone of your choice.\n",
    "\n",
    "**Task**: - Create a Desktop App where the user can upload an video and the faces will be blurred.\n",
    "\n",
    "**Deployment**: - Any Free Platform(Try to look out for free options.)\n",
    "\n",
    "**Assignment Submission**: - Only submit the hosted app link. OR GitHub Link\n"
   ]
  },
  {
   "cell_type": "code",
   "execution_count": null,
   "id": "4bf6ad34",
   "metadata": {},
   "outputs": [],
   "source": []
  }
 ],
 "metadata": {
  "kernelspec": {
   "display_name": "Python 3 (ipykernel)",
   "language": "python",
   "name": "python3"
  },
  "language_info": {
   "codemirror_mode": {
    "name": "ipython",
    "version": 3
   },
   "file_extension": ".py",
   "mimetype": "text/x-python",
   "name": "python",
   "nbconvert_exporter": "python",
   "pygments_lexer": "ipython3",
   "version": "3.9.13"
  }
 },
 "nbformat": 4,
 "nbformat_minor": 5
}
