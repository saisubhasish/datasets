{
 "cells": [
  {
   "cell_type": "markdown",
   "id": "7493f28a",
   "metadata": {},
   "source": [
    "**Objective: - Generate Human Faces with DCGAN**\n",
    "\n",
    "Powerful techniques to generate images, audio, text, or videos that are indistinguishable from real-world data. The idea behind this project is to start with random noise and apply DCGAN to generate real-like human faces that don’t even exist.\n",
    "\n",
    "**Dataset Link**: -  \n",
    "Use any dataset of your choice \n",
    "\n",
    "**Task**: - Create a detailed Google Colab Notebook Result with proper documentation.\n",
    "\n",
    "**Assignment Submission**: - Only submit the hosted app link. OR GitHub Link\n"
   ]
  },
  {
   "cell_type": "code",
   "execution_count": null,
   "id": "c2a5d3bb",
   "metadata": {},
   "outputs": [],
   "source": []
  }
 ],
 "metadata": {
  "kernelspec": {
   "display_name": "Python 3 (ipykernel)",
   "language": "python",
   "name": "python3"
  },
  "language_info": {
   "codemirror_mode": {
    "name": "ipython",
    "version": 3
   },
   "file_extension": ".py",
   "mimetype": "text/x-python",
   "name": "python",
   "nbconvert_exporter": "python",
   "pygments_lexer": "ipython3",
   "version": "3.9.13"
  }
 },
 "nbformat": 4,
 "nbformat_minor": 5
}
