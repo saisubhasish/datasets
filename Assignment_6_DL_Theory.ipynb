{
 "cells": [
  {
   "cell_type": "markdown",
   "id": "78e6d2b6",
   "metadata": {},
   "source": [
    "**1.\tWhat are the advantages of a CNN over a fully connected DNN for image classification?**"
   ]
  },
  {
   "cell_type": "markdown",
   "id": "f0bc628a",
   "metadata": {},
   "source": [
    "**Ans:**\n",
    "    \n",
    "CNNs do not require human supervision for the task of identifying important features. They are very accurate at image recognition and classification. Weight sharing is another major advantage of CNNs. Convolutional neural networks also minimize computation in comparison with a regular neural network.\n",
    "\n",
    "Here are some key points:\n",
    "\n",
    "- CNN's layers are only partially connnected and reuses its weights.\n",
    "- learned a kernel which can detect a particular features.\n",
    "- A CNN's architecture embeds this prior knowledge."
   ]
  },
  {
   "cell_type": "markdown",
   "id": "bb971b2c",
   "metadata": {},
   "source": [
    "**2.\tConsider a CNN composed of three convolutional layers, each with 3 × 3 kernels, a stride of 2, and \"same\" padding. The lowest layer outputs 100 feature maps, the middle one outputs 200, and the top one outputs 400. The input images are RGB images of 200 × 300 pixels.\n",
    "What is the total number of parameters in the CNN? If we are using 32-bit floats, at least how much RAM will this network require when making a prediction for a single instance? What about when training on a mini-batch of 50 images?**"
   ]
  },
  {
   "cell_type": "markdown",
   "id": "1e6985f4",
   "metadata": {},
   "source": [
    "**Ans:**\n",
    "    \n",
    "parameters\n",
    "\n",
    "- first convolutional layer kernel-size and RGB channels, plus bias: 3 * 3 * 3 + 1 = 28 output feature maps is 100: 28 * 100 = 2800\n",
    "- second convolutional layer kernel-size and last feature maps, plus bias: 3 * 3 * 100 + 1 = 901 output feature maps is 200: 901 * 200 = 180200\n",
    "- third convolutional layers kernel-size and last feautre maps, plus bias: 3 * 3 * 200 + 1 =1801 output feautre maps is 400: 1801 * 400 = 720400\n",
    "Total parameters is 2800 + 180200 + 720400 = 903400\n",
    "\n",
    "memories since 32-bit is 4 bytes\n",
    "\n",
    "- first convolutional layer one feature map size: 100 * 150 = 15000 total output: 15000 * 100 = 1,500,000\n",
    "- second convolutional layer one feature map size: 50 * 75 = 3,750 total output: 3750 * 200 = 750,000\n",
    "- third convolutional layer one feature map size: 25 * 38 = 950 total ouput: 950 * 400 = 380, 000\n",
    "(1,500,000 + 750,000 + 380,000) * 4 / 1024 /1024 = 10.032 (MB) 903400 * 4 / 1024 / 1024 = 3.44 (MB) 10.032+ 3.44=13.47(MB)"
   ]
  },
  {
   "cell_type": "markdown",
   "id": "2e784232",
   "metadata": {},
   "source": [
    "**3.\tIf your GPU runs out of memory while training a CNN, what are five things you could try to solve the problem?**"
   ]
  },
  {
   "cell_type": "markdown",
   "id": "b842b633",
   "metadata": {},
   "source": [
    "**Ans:**\n",
    "    \n",
    "- reduce mini-batch size\n",
    "- reduce dimensionality using a larger stride in one or more layers\n",
    "- remove one or more layers\n",
    "- using 16-bits instead of 32-bit floats\n",
    "- distributed the cnn across multiple devices"
   ]
  },
  {
   "cell_type": "markdown",
   "id": "22d5b711",
   "metadata": {},
   "source": [
    "**4.\tWhy would you want to add a max pooling layer rather than a convolutional layer with the same stride?**"
   ]
  },
  {
   "cell_type": "markdown",
   "id": "b87dccae",
   "metadata": {},
   "source": [
    "**Ans:**\n",
    "    \n",
    "We add max pooling layer to make a model training faster. In convolution we extract the fetures in each layer but image pixel reduction becomes slow."
   ]
  },
  {
   "cell_type": "markdown",
   "id": "1e47f269",
   "metadata": {},
   "source": [
    "**5.\tWhen would you want to add a local response normalization layer?**"
   ]
  },
  {
   "cell_type": "markdown",
   "id": "287934b0",
   "metadata": {},
   "source": [
    "**Ans:**\n",
    "    \n",
    "This is useful when we are dealing with ReLU neurons. ReLU neurons have unbounded activations, and we need local response normalization (LRN) to normalize them. To do this, we need to identify high frequency features. By applying LRN, the neurons becomes more sensitive than their neighbors."
   ]
  },
  {
   "cell_type": "markdown",
   "id": "48909df9",
   "metadata": {},
   "source": [
    "**6.\tCan you name the main innovations in AlexNet, compared to LeNet-5? What about the main innovations in GoogLeNet, ResNet, SENet, and Xception?**"
   ]
  },
  {
   "cell_type": "markdown",
   "id": "80d67726",
   "metadata": {},
   "source": [
    "**Ans:**\n",
    "    \n",
    "- The main innovation introduced by AlexNet compared to the LeNet-5 was its sheer size. AlexNet main elements are the same: a sequence of convolutional and pooling layers followed by a couple of fully-connected layers.\n",
    "\n",
    "- "
   ]
  },
  {
   "cell_type": "markdown",
   "id": "cf18d64a",
   "metadata": {},
   "source": [
    "**7.\tWhat is a fully convolutional network? How can you convert a dense layer into a convolutional layer?**"
   ]
  },
  {
   "cell_type": "markdown",
   "id": "026b0772",
   "metadata": {},
   "source": [
    "**Ans:**\n",
    "    \n",
    "- A fully convolution network (FCN) is a neural network that only performs convolution (and subsampling or upsampling) operations. Equivalently, an FCN is a CNN without fully connected layers.\n",
    "\n",
    "- A fully convolution network can be built by simply replacing the FC layers with there equivalent Conv layers. In the example of VGG16 we can do so by first removing the last four layers. One way to do so is to pop layers from the model. In the model stack, each popping will remove the last layer."
   ]
  },
  {
   "cell_type": "markdown",
   "id": "d2dba2cd",
   "metadata": {},
   "source": [
    "**8.\tWhat is the main technical difficulty of semantic segmentation?**"
   ]
  },
  {
   "cell_type": "markdown",
   "id": "124c0f2b",
   "metadata": {},
   "source": [
    "**Ans:**\n",
    "    \n",
    "However, semantic segmentation also has a major problem specific difficulty. This difficulty is caused by an ambiguity of boundaries in image space, especially for thin objects such as poles, similar looking objects such as a road and a sidewalk and far away objects."
   ]
  },
  {
   "cell_type": "markdown",
   "id": "c84b3460",
   "metadata": {},
   "source": [
    "**9.\tBuild your own CNN from scratch and try to achieve the highest possible accuracy on MNIST.**"
   ]
  },
  {
   "cell_type": "markdown",
   "id": "8675cd7d",
   "metadata": {},
   "source": [
    "**Ans:**"
   ]
  },
  {
   "cell_type": "markdown",
   "id": "1224cea6",
   "metadata": {},
   "source": [
    "**10.\tUse transfer learning for large image classification, going through these steps:**\n",
    "\n",
    "    a. Create a training set containing at least 100 images per class. For example, you could classify your own pictures based on the location (beach, mountain, city, etc.), or alternatively you can use an existing dataset (e.g., from TensorFlow Datasets).\n",
    "    \n",
    "    b. Split it into a training set, a validation set, and a test set.\n",
    "\n",
    "    c. Build the input pipeline, including the appropriate preprocessing operations, and optionally add data augmentation.\n",
    "\n",
    "    d. Fine-tune a pretrained model on this dataset.\n"
   ]
  },
  {
   "cell_type": "code",
   "execution_count": null,
   "id": "2792815a",
   "metadata": {},
   "outputs": [],
   "source": []
  }
 ],
 "metadata": {
  "kernelspec": {
   "display_name": "Python 3 (ipykernel)",
   "language": "python",
   "name": "python3"
  },
  "language_info": {
   "codemirror_mode": {
    "name": "ipython",
    "version": 3
   },
   "file_extension": ".py",
   "mimetype": "text/x-python",
   "name": "python",
   "nbconvert_exporter": "python",
   "pygments_lexer": "ipython3",
   "version": "3.9.13"
  }
 },
 "nbformat": 4,
 "nbformat_minor": 5
}
