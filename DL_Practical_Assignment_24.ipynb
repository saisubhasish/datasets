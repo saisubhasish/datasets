{
 "cells": [
  {
   "cell_type": "markdown",
   "id": "f5f3caaa",
   "metadata": {},
   "source": [
    "**Objective: - Object Tracking for any objects.**\n",
    "\n",
    "Object tracking is the process of identifying where a particular object is present in the image.\n",
    "\n",
    "**Library** :- https://github.com/tryolabs/norfair\n",
    "\n",
    "**Dataset Link**: - \n",
    "Use anyone of your choice.\n",
    "Use any 2 object for Tracking.\n",
    "\n",
    "**Task**: - Create a Desktop App where the videos can be used and get the count of 2 objects in the video.\n",
    "\n",
    "**Deployment**: - Any Free Platform(Try to look out for free options.)\n",
    "\n",
    "**Assignment Submission**: - Only submit the hosted app link. OR GitHub Link\n",
    "\n"
   ]
  },
  {
   "cell_type": "code",
   "execution_count": null,
   "id": "f5768ecb",
   "metadata": {},
   "outputs": [],
   "source": []
  }
 ],
 "metadata": {
  "kernelspec": {
   "display_name": "Python 3 (ipykernel)",
   "language": "python",
   "name": "python3"
  },
  "language_info": {
   "codemirror_mode": {
    "name": "ipython",
    "version": 3
   },
   "file_extension": ".py",
   "mimetype": "text/x-python",
   "name": "python",
   "nbconvert_exporter": "python",
   "pygments_lexer": "ipython3",
   "version": "3.9.13"
  }
 },
 "nbformat": 4,
 "nbformat_minor": 5
}
