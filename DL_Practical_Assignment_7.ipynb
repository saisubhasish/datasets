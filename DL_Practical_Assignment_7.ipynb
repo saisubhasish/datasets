{
 "cells": [
  {
   "cell_type": "markdown",
   "id": "ee8a3fa7",
   "metadata": {},
   "source": [
    "**Objective: - Object Detection with Oxford-IIIT Pet Dataset**\n",
    "\n",
    "Stanford with IIIT have created a 37 category pet dataset with roughly 200 images for each class. The images have a large variations in scale, pose and lighting. All images have an associated ground truth annotation of breed, head ROI, and pixel level trimap segmentation.\n",
    "\n",
    "**Dataset Link**: -\n",
    "\n",
    "**Dataset** :- https://www.robots.ox.ac.uk/~vgg/data/pets/data/images.tar.gz\n",
    "\n",
    "**Ground Truth** :- https://www.robots.ox.ac.uk/~vgg/data/pets/data/annotations.tar.gz\n",
    "\n",
    "**Task**: - Create a Web Application using Flask. Use the end user should be able to upload an image and get results with the prediction score. Use any CNN architecture launched after 2017.\n",
    "\n",
    "**Deployment**: - Any Free Platform(Try to look out for free options.)\n",
    "\n",
    "**Assignment Submission**: - Only submit the hosted app link. OR GitHub Link\n"
   ]
  },
  {
   "cell_type": "code",
   "execution_count": null,
   "id": "320d390a",
   "metadata": {},
   "outputs": [],
   "source": []
  }
 ],
 "metadata": {
  "kernelspec": {
   "display_name": "Python 3 (ipykernel)",
   "language": "python",
   "name": "python3"
  },
  "language_info": {
   "codemirror_mode": {
    "name": "ipython",
    "version": 3
   },
   "file_extension": ".py",
   "mimetype": "text/x-python",
   "name": "python",
   "nbconvert_exporter": "python",
   "pygments_lexer": "ipython3",
   "version": "3.9.13"
  }
 },
 "nbformat": 4,
 "nbformat_minor": 5
}
