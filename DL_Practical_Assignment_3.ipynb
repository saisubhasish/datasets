{
 "cells": [
  {
   "cell_type": "markdown",
   "id": "16fe39fe",
   "metadata": {},
   "source": [
    "**Objective: - Image Classification with Stanford Dogs Dataset**\n",
    "\n",
    "The Stanford Dogs dataset contains images of 120 breeds of dogs from around the world. This dataset has been built using images and annotation from ImageNet for the task of fine-grained image categorization. Contents of this dataset: \n",
    "\n",
    "•\t**Number of categories: 120**\n",
    "•\t**Number of images: 20,580**\n",
    "•\t**Annotations: Class labels, Bounding boxes**\n",
    "\n",
    "\n",
    "**Dataset Link**: - \n",
    "\n",
    "Images Link :- http://vision.stanford.edu/aditya86/ImageNetDogs/images.tar\n",
    "Annotations Link :- http://vision.stanford.edu/aditya86/ImageNetDogs/annotation.tar\n",
    "\n",
    "**Task**: - Create a Web Application using Flask. Use the end user should be able to upload an image and get results with the prediction score.\n",
    "\n",
    "**Deployment**: - Any Free Platform(Try to look out for free options.)\n",
    "\n",
    "**Assignment Submission**: - Only submit the hosted app link. "
   ]
  },
  {
   "cell_type": "code",
   "execution_count": null,
   "id": "4a243f00",
   "metadata": {},
   "outputs": [],
   "source": []
  }
 ],
 "metadata": {
  "kernelspec": {
   "display_name": "Python 3 (ipykernel)",
   "language": "python",
   "name": "python3"
  },
  "language_info": {
   "codemirror_mode": {
    "name": "ipython",
    "version": 3
   },
   "file_extension": ".py",
   "mimetype": "text/x-python",
   "name": "python",
   "nbconvert_exporter": "python",
   "pygments_lexer": "ipython3",
   "version": "3.9.13"
  }
 },
 "nbformat": 4,
 "nbformat_minor": 5
}
