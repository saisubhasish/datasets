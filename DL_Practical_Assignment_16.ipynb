{
 "cells": [
  {
   "cell_type": "markdown",
   "id": "208013cc",
   "metadata": {},
   "source": [
    "**Objective: - Gender and Age Detection**\n",
    "\n",
    "You might have seen many smartphone cameras are now equipped with AI. They can even predict if a person is a male or female and their age. This can be done with deep learning but we will need a good amount of data to make this model.\n",
    "\n",
    "**Dataset Link**: -  \n",
    "https://drive.google.com/file/d/1yy_poZSFAPKi0y2e2yj9XDe1N8xXYuKB/view\n",
    "\n",
    "**Task**: - Create a Web Application using Flask. Use the end user should be able to upload an image and get results with the prediction score. \n",
    "\n",
    "**Deployment**: - Any Free Platform(Try to look out for free options.)\n",
    "\n",
    "**Assignment Submission**: - Only submit the hosted app link. OR GitHub Link\n"
   ]
  },
  {
   "cell_type": "code",
   "execution_count": null,
   "id": "c463bfbd",
   "metadata": {},
   "outputs": [],
   "source": []
  }
 ],
 "metadata": {
  "kernelspec": {
   "display_name": "Python 3 (ipykernel)",
   "language": "python",
   "name": "python3"
  },
  "language_info": {
   "codemirror_mode": {
    "name": "ipython",
    "version": 3
   },
   "file_extension": ".py",
   "mimetype": "text/x-python",
   "name": "python",
   "nbconvert_exporter": "python",
   "pygments_lexer": "ipython3",
   "version": "3.9.13"
  }
 },
 "nbformat": 4,
 "nbformat_minor": 5
}
