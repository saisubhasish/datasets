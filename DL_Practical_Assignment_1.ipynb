{
 "cells": [
  {
   "cell_type": "markdown",
   "id": "1d49c18e",
   "metadata": {},
   "source": [
    "**Objective: - Predict Next Sequence**\n",
    "    \n",
    "**To start with deep learning, the very basic project that you can build is to predict the next digit in a sequence.**\n",
    "\n",
    "Dataset: - Create a sequence like a list of odd numbers and then build a model and train it to predict the next digit in the sequence. \n",
    "\n",
    "Task: - A simple neural network with 2 layers would be sufficient to build the model.\n",
    "\n",
    "Assignment Submission: - Only submit the Google Colab/Github link.(Make the Link Public).\n"
   ]
  },
  {
   "cell_type": "markdown",
   "id": "0c471184",
   "metadata": {},
   "source": [
    "**Ans:**\n",
    "\n",
    "Here is my basic project to predict the next digit in a sequence using an LSTM model"
   ]
  },
  {
   "cell_type": "code",
   "execution_count": 3,
   "id": "a20205b3",
   "metadata": {},
   "outputs": [
    {
     "name": "stdout",
     "output_type": "stream",
     "text": [
      "[[11.531803]]\n"
     ]
    }
   ],
   "source": [
    "import numpy as np\n",
    "import tensorflow as tf\n",
    "from tensorflow.keras.layers import LSTM, Dense\n",
    "\n",
    "# Define the sequence\n",
    "sequence = np.array([0, 1, 2, 3, 4, 5, 6, 7, 8, 9])\n",
    "\n",
    "# Define the number of time steps to use for prediction\n",
    "n_steps = 3\n",
    "\n",
    "# Split the sequence into input and output pairs\n",
    "X, y = [], []\n",
    "for i in range(len(sequence)-n_steps):\n",
    "    X.append(sequence[i:i+n_steps])\n",
    "    y.append(sequence[i+n_steps])\n",
    "\n",
    "# Convert the y data to a NumPy array\n",
    "y = np.array(y)\n",
    "\n",
    "# Reshape the input data to fit the LSTM model\n",
    "X = np.array(X).reshape(len(X), n_steps, 1)\n",
    "\n",
    "# Define the LSTM model\n",
    "model = tf.keras.Sequential([\n",
    "    LSTM(50, activation='relu', input_shape=(n_steps, 1)),\n",
    "    Dense(1)\n",
    "])\n",
    "\n",
    "# Compile the model\n",
    "model.compile(optimizer='adam', loss='mse')\n",
    "\n",
    "# Train the model\n",
    "model.fit(X, y, epochs=200, verbose=0)\n",
    "\n",
    "# Predict the next digit in the sequence\n",
    "test_input = np.array([7, 8, 9]).reshape(1, n_steps, 1)\n",
    "prediction = model.predict(test_input, verbose=0)\n",
    "print(prediction)\n"
   ]
  },
  {
   "cell_type": "markdown",
   "id": "743a32b1",
   "metadata": {},
   "source": [
    "This code defines a sequence of numbers from 0 to 9 and splits it into input and output pairs using a sliding window approach. The input data consists of a sequence of n_steps digits, and the output data is the digit immediately following the input sequence. The data is then reshaped to fit the input shape of an LSTM model, which consists of a 3D tensor with dimensions (batch_size, n_steps, 1).\n",
    "\n",
    "The LSTM model is defined with one LSTM layer with 50 units and a dense output layer with one unit. The model is trained using the mean squared error loss function and the Adam optimizer.\n",
    "\n",
    "Finally, the code predicts the next digit in the sequence by providing the model with a test input of the last three digits in the sequence (7, 8, 9). The predicted output is printed to the console."
   ]
  },
  {
   "cell_type": "code",
   "execution_count": null,
   "id": "8122063c",
   "metadata": {},
   "outputs": [],
   "source": []
  }
 ],
 "metadata": {
  "kernelspec": {
   "display_name": "Python 3 (ipykernel)",
   "language": "python",
   "name": "python3"
  },
  "language_info": {
   "codemirror_mode": {
    "name": "ipython",
    "version": 3
   },
   "file_extension": ".py",
   "mimetype": "text/x-python",
   "name": "python",
   "nbconvert_exporter": "python",
   "pygments_lexer": "ipython3",
   "version": "3.9.13"
  }
 },
 "nbformat": 4,
 "nbformat_minor": 5
}
