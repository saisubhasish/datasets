{
 "cells": [
  {
   "cell_type": "markdown",
   "id": "07a1f10e",
   "metadata": {},
   "source": [
    "**Objective: - Neural Style Transfer**\n",
    "\n",
    "The idea of this project is to make art by using one image and then transferring the style of that image to the target image.\n",
    "\n",
    "**Dataset Link**: - \n",
    "Use anyone you like.\n",
    "\n",
    "**Task**: - Create a Web Application using FASTAPI. Use the end user should be able to upload an 2 images and get the output photo .\n",
    "\n",
    "**Assignment Submission**: - Only submit the GitHub Link. Create a proper Readme documentation.\n"
   ]
  },
  {
   "cell_type": "code",
   "execution_count": null,
   "id": "f0e878a8",
   "metadata": {},
   "outputs": [],
   "source": []
  }
 ],
 "metadata": {
  "kernelspec": {
   "display_name": "Python 3 (ipykernel)",
   "language": "python",
   "name": "python3"
  },
  "language_info": {
   "codemirror_mode": {
    "name": "ipython",
    "version": 3
   },
   "file_extension": ".py",
   "mimetype": "text/x-python",
   "name": "python",
   "nbconvert_exporter": "python",
   "pygments_lexer": "ipython3",
   "version": "3.9.13"
  }
 },
 "nbformat": 4,
 "nbformat_minor": 5
}
