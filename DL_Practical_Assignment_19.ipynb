{
 "cells": [
  {
   "cell_type": "markdown",
   "id": "69aada4d",
   "metadata": {},
   "source": [
    "**Objective: - Human Counting**\n",
    "    \n",
    "A camera can be used to monitor and count the number of people present in the room, building, street, etc.\n",
    "\n",
    "First, you need to detect people and then we count their occurrence. It is useful to control the crowd.\n",
    "\n",
    "**Dataset Link**: - \n",
    "Use anyone of your choice.\n",
    "\n",
    "**Task**: - Create a Web Application using FASTAPI. Use the end user should be able to upload an image or video and get results with the count of persons.\n",
    "\n",
    "**Deployment**: - Any Free Platform(Try to look out for free options.)\n",
    "\n",
    "**Assignment Submission**: - Only submit the hosted app link. OR GitHub Link\n"
   ]
  },
  {
   "cell_type": "code",
   "execution_count": null,
   "id": "c8c37ebc",
   "metadata": {},
   "outputs": [],
   "source": []
  }
 ],
 "metadata": {
  "kernelspec": {
   "display_name": "Python 3 (ipykernel)",
   "language": "python",
   "name": "python3"
  },
  "language_info": {
   "codemirror_mode": {
    "name": "ipython",
    "version": 3
   },
   "file_extension": ".py",
   "mimetype": "text/x-python",
   "name": "python",
   "nbconvert_exporter": "python",
   "pygments_lexer": "ipython3",
   "version": "3.9.13"
  }
 },
 "nbformat": 4,
 "nbformat_minor": 5
}
