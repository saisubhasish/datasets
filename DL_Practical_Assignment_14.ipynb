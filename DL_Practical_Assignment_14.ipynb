{
 "cells": [
  {
   "cell_type": "markdown",
   "id": "25dacc86",
   "metadata": {},
   "source": [
    "**Objective: - Coloring old Black&White photos**\n",
    "\n",
    "Automated image colorization of B&W images has been a hot topic of exploration in the field of computer vision.\n",
    "\n",
    "**Dataset Link**: - \n",
    "Use anyone of your choice.\n",
    "\n",
    "**Task**: - Create a Web Application using FASTAPI. Use the end user should be able to upload an B&W image and get color photos .\n",
    "\n",
    "**Assignment Submission**: - Only submit the GitHub Link. Create a proper Readme documentation.\n"
   ]
  },
  {
   "cell_type": "code",
   "execution_count": null,
   "id": "2cd2da38",
   "metadata": {},
   "outputs": [],
   "source": []
  }
 ],
 "metadata": {
  "kernelspec": {
   "display_name": "Python 3 (ipykernel)",
   "language": "python",
   "name": "python3"
  },
  "language_info": {
   "codemirror_mode": {
    "name": "ipython",
    "version": 3
   },
   "file_extension": ".py",
   "mimetype": "text/x-python",
   "name": "python",
   "nbconvert_exporter": "python",
   "pygments_lexer": "ipython3",
   "version": "3.9.13"
  }
 },
 "nbformat": 4,
 "nbformat_minor": 5
}
