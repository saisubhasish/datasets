{
 "cells": [
  {
   "cell_type": "markdown",
   "id": "13f0771d",
   "metadata": {},
   "source": [
    "**Objective: - Object Detection with MSCOCO**\n",
    "\n",
    "Microsoft is in this game also with their Common Objects in Context  (COCO) dataset. Containing ~200K images, it’s relatively small but what makes it stand out are its challenges that come associated with the additional features it provides for each image.\n",
    "\n",
    "COCO challenges are also held annually. But each year’s challenge is slightly different. This year the challenge has four tracks:\n",
    "\n",
    "1.\tObject segmentation\n",
    "2.\tPanoptic segmentation\n",
    "3.\tKeypoint detection\n",
    "4.\tDensePose task\n",
    "\n",
    "**Dataset Link**: - Dataset is pretty big. SO we do not want to train it completely. So please extract any 10 classes images and annotations that you like. Then train it.\n",
    "Link :- https://cocodataset.org/#download\n",
    "\n",
    "**Task**: - Create a Web Application using Flask. Use the end user should be able to upload an image and get results with the prediction score. Use any CNN architecture launched after 2017.\n",
    "\n",
    "**Deployment**: - Any Free Platform(Try to look out for free options.)\n",
    "\n",
    "**Assignment Submission**: - Only submit the hosted app link. OR GitHub Link\n"
   ]
  },
  {
   "cell_type": "code",
   "execution_count": null,
   "id": "2c9a1141",
   "metadata": {},
   "outputs": [],
   "source": []
  }
 ],
 "metadata": {
  "kernelspec": {
   "display_name": "Python 3 (ipykernel)",
   "language": "python",
   "name": "python3"
  },
  "language_info": {
   "codemirror_mode": {
    "name": "ipython",
    "version": 3
   },
   "file_extension": ".py",
   "mimetype": "text/x-python",
   "name": "python",
   "nbconvert_exporter": "python",
   "pygments_lexer": "ipython3",
   "version": "3.9.13"
  }
 },
 "nbformat": 4,
 "nbformat_minor": 5
}
