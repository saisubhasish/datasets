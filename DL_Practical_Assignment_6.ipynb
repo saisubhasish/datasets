{
 "cells": [
  {
   "cell_type": "markdown",
   "id": "34f8e6db",
   "metadata": {},
   "source": [
    "**Objective: - Image Classification with Tiny ImageNet**\n",
    "\n",
    "Stanford prepared the Tiny ImageNet dataset for their CS231ncourse. The dataset spans 200 image classes with 500 training examples per class. The dataset also has 50 validation and 50 test examples per class. The images are down-sampled to 64x64 pixels vs. 256x256 for the original ImageNet. The full ImageNet dataset also has 1000 classes. Tiny ImageNet is large enough to be a challenging and realistic problem. But not so big as to require days of training before you see results.\n",
    "\n",
    "**Dataset Link**: -  \n",
    "http://cs231n.stanford.edu/tiny-imagenet-200.zip\n",
    "\n",
    "**Task**: - Create a Web Application using Flask. Use the end user should be able to upload an image and get results with the prediction score. Use any CNN architecture launched after 2016.\n",
    "\n",
    "**Deployment**: - Any Free Platform(Try to look out for free options.)\n",
    "\n",
    "**Assignment Submission**: - Only submit the hosted app link. "
   ]
  },
  {
   "cell_type": "code",
   "execution_count": null,
   "id": "a6c2083d",
   "metadata": {},
   "outputs": [],
   "source": []
  }
 ],
 "metadata": {
  "kernelspec": {
   "display_name": "Python 3 (ipykernel)",
   "language": "python",
   "name": "python3"
  },
  "language_info": {
   "codemirror_mode": {
    "name": "ipython",
    "version": 3
   },
   "file_extension": ".py",
   "mimetype": "text/x-python",
   "name": "python",
   "nbconvert_exporter": "python",
   "pygments_lexer": "ipython3",
   "version": "3.9.13"
  }
 },
 "nbformat": 4,
 "nbformat_minor": 5
}
